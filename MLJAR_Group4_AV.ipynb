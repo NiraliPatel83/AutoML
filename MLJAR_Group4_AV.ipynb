{
  "nbformat": 4,
  "nbformat_minor": 0,
  "metadata": {
    "colab": {
      "name": "MLJAR-Code-Demo.ipynb",
      "provenance": [],
      "collapsed_sections": [],
      "toc_visible": true
    },
    "kernelspec": {
      "name": "python3",
      "display_name": "Python 3"
    },
    "language_info": {
      "name": "python"
    }
  },
  "cells": [
    {
      "cell_type": "markdown",
      "metadata": {
        "id": "YNkMtygfhzV9"
      },
      "source": [
        "# Import Required Libraries and install MLJAR"
      ]
    },
    {
      "cell_type": "code",
      "metadata": {
        "id": "gtsOXpSGXakl"
      },
      "source": [
        "# Install MLJAR Module, Restart Kernal and Rerun \n",
        "# Import required Data Analysis, Array operations, machine \n",
        "# Learning and AutoML Libraries.\n",
        "!pip install mljar-supervised\n",
        "import pandas as pd\n",
        "import numpy as np\n",
        "from sklearn import datasets\n",
        "from sklearn.model_selection import train_test_split\n",
        "from supervised.automl import AutoML"
      ],
      "execution_count": null,
      "outputs": []
    },
    {
      "cell_type": "markdown",
      "metadata": {
        "id": "Km-lgHPWh0y5"
      },
      "source": [
        "# Import Data, Map Google Drive"
      ]
    },
    {
      "cell_type": "code",
      "metadata": {
        "id": "tax4EdHOXDgU"
      },
      "source": [
        "# Map Google Drive to Read Dataset.\n",
        "from google.colab import drive\n",
        "drive.mount('/content/drive')"
      ],
      "execution_count": null,
      "outputs": []
    },
    {
      "cell_type": "code",
      "metadata": {
        "id": "Pl8mw16UXafG"
      },
      "source": [
        "vehicle_df = pd.read_csv('/content/drive/MyDrive/project/vehicle.csv')\n",
        "vehicle_df.head()"
      ],
      "execution_count": null,
      "outputs": []
    },
    {
      "cell_type": "markdown",
      "metadata": {
        "id": "60Myn6vNiZrJ"
      },
      "source": [
        "# Data Preparation\n",
        "### Extract Features and Lables, Hotencoding and Data Split for Test and Training."
      ]
    },
    {
      "cell_type": "code",
      "metadata": {
        "id": "yUmNPxSwXaZp"
      },
      "source": [
        "# Separate Feature-set and Labels\n",
        "X = vehicle_df.drop(['class'], axis=1)\n",
        "y = vehicle_df[[\"class\"]]"
      ],
      "execution_count": null,
      "outputs": []
    },
    {
      "cell_type": "code",
      "metadata": {
        "id": "DW5u1xFoXaUC"
      },
      "source": [
        "# Use of Label encoder to tag vehicle type with number\n",
        "# 0 – Bus , 1 – Car, 2 - Van\n",
        "from sklearn.preprocessing import LabelEncoder\n",
        "LE = LabelEncoder()\n",
        "y['code'] = LE.fit_transform(y['class'])\n",
        "# View Data and see if Lable encoder worked.\n",
        "y = y[[\"code\"]]\n",
        "y"
      ],
      "execution_count": null,
      "outputs": []
    },
    {
      "cell_type": "code",
      "metadata": {
        "id": "DJqEn4D9XaOZ"
      },
      "source": [
        "# Split Dataset to Test and Train, \n",
        "# 80% for Training and 20 % for Test\n",
        "X_train, X_test, y_train, y_test = train_test_split(X, y, test_size=0.1)"
      ],
      "execution_count": null,
      "outputs": []
    },
    {
      "cell_type": "markdown",
      "metadata": {
        "id": "LU9x94iMi7wO"
      },
      "source": [
        "# AutoML Model Build and Training"
      ]
    },
    {
      "cell_type": "code",
      "metadata": {
        "id": "ipxMk5WeXaLl"
      },
      "source": [
        "# Machine Learning, Define MLJAR  Model to build Model \"automl\"\n",
        "automl = AutoML(total_time_limit=5*60, mode='Compete')\n",
        "\n",
        "# Model fit, Model Training.\n",
        "automl.fit(X_train, y_train)"
      ],
      "execution_count": null,
      "outputs": []
    },
    {
      "cell_type": "markdown",
      "metadata": {
        "id": "aOifEHphjFC2"
      },
      "source": [
        "# Model Validation"
      ]
    },
    {
      "cell_type": "code",
      "metadata": {
        "id": "vU3soDWkXaIy"
      },
      "source": [
        "# Validate Model by Test Data\n",
        "X_test\n",
        "y_predicted = automl.predict(X_test)"
      ],
      "execution_count": null,
      "outputs": []
    },
    {
      "cell_type": "code",
      "metadata": {
        "id": "8nts1bQxXaFR"
      },
      "source": [
        "# View/Validate Prediction Result and Compare with Test Data\n",
        "pd.DataFrame(y_predicted,columns=['Prediction'])\n",
        "y_test['Result'] = y_predicted\n",
        "y_test"
      ],
      "execution_count": null,
      "outputs": []
    },
    {
      "cell_type": "markdown",
      "metadata": {
        "id": "L_pvA3PdjMMl"
      },
      "source": [
        "# Report Visualization"
      ]
    },
    {
      "cell_type": "code",
      "metadata": {
        "id": "6MLjo7xXYSTk"
      },
      "source": [
        "automl.report()"
      ],
      "execution_count": null,
      "outputs": []
    }
  ]
}